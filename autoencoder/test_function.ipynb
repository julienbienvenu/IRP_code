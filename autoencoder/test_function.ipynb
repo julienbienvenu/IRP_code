{
 "cells": [
  {
   "cell_type": "code",
   "execution_count": 24,
   "metadata": {},
   "outputs": [
    {
     "name": "stdout",
     "output_type": "stream",
     "text": [
      "tf.Tensor(\n",
      "[[0. 0. 0. 0. 0. 0. 0. 0. 0. 0.]\n",
      " [0. 0. 0. 0. 0. 0. 0. 0. 0. 0.]\n",
      " [0. 0. 0. 1. 0. 0. 0. 0. 0. 0.]\n",
      " [0. 0. 0. 0. 0. 0. 0. 0. 0. 0.]\n",
      " [0. 0. 0. 0. 0. 0. 0. 1. 0. 0.]\n",
      " [0. 0. 0. 0. 0. 0. 0. 0. 0. 0.]\n",
      " [0. 1. 0. 0. 0. 0. 0. 0. 0. 0.]\n",
      " [0. 0. 0. 0. 0. 1. 0. 0. 0. 0.]\n",
      " [1. 0. 0. 0. 0. 0. 0. 0. 0. 1.]\n",
      " [0. 0. 1. 0. 1. 0. 1. 0. 1. 0.]], shape=(10, 10), dtype=float32)\n",
      "tf.Tensor(\n",
      "[[0. 0. 0. 0. 0. 0. 0. 0. 0. 0.]\n",
      " [0. 0. 0. 0. 0. 0. 0. 0. 0. 0.]\n",
      " [0. 0. 0. 1. 0. 0. 0. 0. 0. 0.]\n",
      " [0. 0. 0. 0. 0. 0. 0. 0. 0. 0.]\n",
      " [0. 0. 0. 0. 0. 0. 0. 1. 0. 0.]\n",
      " [0. 0. 0. 0. 0. 0. 0. 0. 0. 0.]\n",
      " [0. 1. 0. 0. 0. 0. 0. 0. 0. 0.]\n",
      " [0. 0. 0. 0. 0. 1. 0. 0. 0. 0.]\n",
      " [1. 0. 0. 0. 0. 0. 0. 0. 0. 1.]\n",
      " [0. 0. 1. 0. 1. 0. 1. 0. 1. 0.]], shape=(10, 10), dtype=float32)\n"
     ]
    }
   ],
   "source": [
    "import tensorflow as tf\n",
    "\n",
    "# Create a 10x10 grid filled with zeros\n",
    "grid = tf.zeros((10, 10), dtype=tf.float32)\n",
    "\n",
    "# Specify the indices where ones should be placed\n",
    "ones_indices = [(2, 3), (4, 7), (6, 1), (7, 5), (8, 0), (8, 9), (9, 2), (9, 4), (9, 6), (9, 8)]\n",
    "\n",
    "# Create an array of ones with the same length as ones_indices\n",
    "ones = tf.ones(len(ones_indices), dtype=tf.float32)\n",
    "grid_test = tf.tensor_scatter_nd_update(grid, ones_indices, ones)\n",
    "\n",
    "grid2 = tf.zeros((10, 10), dtype=tf.float32)\n",
    "ones = tf.ones(len(ones_indices), dtype=tf.float32)\n",
    "grid_pred = tf.tensor_scatter_nd_update(grid2, ones_indices, ones)\n",
    "\n",
    "# Print the resulting grid\n",
    "print(grid_test)\n",
    "print(grid_pred)"
   ]
  },
  {
   "cell_type": "code",
   "execution_count": 29,
   "metadata": {},
   "outputs": [],
   "source": [
    "def accuracy_00(y_true, y_pred):\n",
    "\n",
    "    # Count the number of correct 1s\n",
    "    # correct_ones = tf.reduce_sum(tf.cast(tf.logical_and(tf.equal(y_true_flat, 1), tf.equal(tf.round(y_pred_flat), 1)), dtype=tf.float32))\n",
    "    \n",
    "    # Flatten the tensor\n",
    "    y_true_flat = tf.reshape(y_true, [-1])\n",
    "    y_pred_flat = tf.reshape(y_pred, [-1])\n",
    "\n",
    "    # Count the total number of ones\n",
    "    correct_ones = tf.reduce_sum(tf.cast(tf.logical_and(tf.greater(y_true_flat, 0.0), tf.greater(y_pred_flat, 0.0)), dtype=tf.float32))\n",
    "    total_ones = tf.reduce_sum(tf.cast(tf.equal(y_true_flat, 1.0), dtype=tf.float32))\n",
    "\n",
    "    print(correct_ones)\n",
    "    print(total_ones)\n",
    "\n",
    "    # Print the result\n",
    "    return (correct_ones / total_ones)"
   ]
  },
  {
   "cell_type": "code",
   "execution_count": 30,
   "metadata": {},
   "outputs": [
    {
     "name": "stdout",
     "output_type": "stream",
     "text": [
      "tf.Tensor(10.0, shape=(), dtype=float32)\n",
      "tf.Tensor(10.0, shape=(), dtype=float32)\n"
     ]
    },
    {
     "data": {
      "text/plain": [
       "<tf.Tensor: shape=(), dtype=float32, numpy=1.0>"
      ]
     },
     "execution_count": 30,
     "metadata": {},
     "output_type": "execute_result"
    }
   ],
   "source": [
    "accuracy_00(grid_test, grid_pred)"
   ]
  },
  {
   "cell_type": "code",
   "execution_count": null,
   "metadata": {},
   "outputs": [],
   "source": []
  }
 ],
 "metadata": {
  "kernelspec": {
   "display_name": "Python 3",
   "language": "python",
   "name": "python3"
  },
  "language_info": {
   "codemirror_mode": {
    "name": "ipython",
    "version": 3
   },
   "file_extension": ".py",
   "mimetype": "text/x-python",
   "name": "python",
   "nbconvert_exporter": "python",
   "pygments_lexer": "ipython3",
   "version": "3.8.10"
  },
  "orig_nbformat": 4
 },
 "nbformat": 4,
 "nbformat_minor": 2
}
